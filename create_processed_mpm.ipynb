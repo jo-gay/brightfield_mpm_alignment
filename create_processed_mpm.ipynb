{
 "cells": [
  {
   "cell_type": "markdown",
   "metadata": {},
   "source": [
    "## MPM Microscopy Data Processing ##\n",
    "\n",
    "Use three images of each region of interest to create a processed version\n",
    " - Take the average of the two TPEF images, use as red channel\n",
    " - Use SHG image as blue channel\n",
    " - Create a greyscale version from this\n",
    " - Save both multi-channel and greyscale images\n"
   ]
  },
  {
   "cell_type": "code",
   "execution_count": 1,
   "metadata": {},
   "outputs": [],
   "source": [
    "import numpy as np\n",
    "import matplotlib.pyplot as plt #requires Pillow to read tiffs\n",
    "from os import walk #to get directory listing\n",
    "\n",
    "from skimage.color import rgb2gray\n",
    "from scipy import ndimage"
   ]
  },
  {
   "cell_type": "code",
   "execution_count": 2,
   "metadata": {},
   "outputs": [],
   "source": [
    "data_dir = '../py_alpha_amd_release/data/'\n",
    "subdirs = ['Dysplastic'] #, 'Malignant', 'Healthy']\n",
    "path = data_dir + '%s/%s/med/' #Substitute in subdirectory and slide ID to get full path\n",
    "#path = data_dir + '%s/%s/' #Substitute in subdirectory and slide ID to get full path\n",
    "#file_name = '%s_%s-p%d_ch%d' #filename consists of slideid, region id, polarization, channel\n",
    "\n",
    "out_file = '../data/processed/%s_%s.tif' #substitute in slide ID and region ID\n",
    "out_file_greyscale = '../data/processed/%s_%s_gs.tif' #substitute in slide ID and region ID"
   ]
  },
  {
   "cell_type": "code",
   "execution_count": 9,
   "metadata": {},
   "outputs": [
    {
     "name": "stdout",
     "output_type": "stream",
     "text": [
      "Processing slide 148185 in Dysplastic\n",
      "Found 20 regions\n",
      "(512, 3) 0.0 0.6705882352941176\n",
      "(512, 3) 0.0 0.8627450980392092\n",
      "(512, 3) 0.0 0.592156862745098\n",
      "(512, 3) 0.0 0.7215686274509805\n",
      "(512, 3) 0.0 0.6980392156862745\n",
      "(512, 3) 0.0 0.454901960784312\n",
      "(512, 3) 0.0 0.7568627450980394\n",
      "(512, 3) 0.0 0.9490196078431437\n",
      "(512, 3) 0.0 0.8745098039215689\n",
      "(512, 3) 0.0 0.6588235294117648\n",
      "(512, 3) 0.0 0.8784313725490199\n",
      "(512, 3) 0.0 0.7058823529411765\n",
      "(512, 3) 0.0 0.8313725490196081\n",
      "(512, 3) 0.0 0.8666666666666667\n",
      "(512, 3) 0.0 0.7176470588235295\n",
      "(512, 3) 0.0 0.5000000000000002\n",
      "(512, 3) 0.0 0.6784313725490196\n",
      "(512, 3) 0.0 0.596078431372549\n",
      "(512, 3) 0.0 0.48823529411764716\n",
      "(512, 3) 0.0 0.7294117647058822\n",
      "Processing slide 148184 in Dysplastic\n",
      "Found 7 regions\n",
      "(512, 3) 0.0 0.5686274509803971\n",
      "(512, 3) 0.0 0.4588235294117647\n",
      "(512, 3) 0.0 0.46274509803921604\n",
      "(512, 3) 0.0 0.5000000000000108\n",
      "(512, 3) 0.0 0.5960784313725569\n",
      "(512, 3) 0.0 0.6431372549019667\n",
      "(512, 3) 0.0 1.0000000000000004\n"
     ]
    }
   ],
   "source": [
    "#For each of the data subdirectories get a list of slides (each is a subdirectory of that)\n",
    "#Then iterate the slides and process each region.\n",
    "for sd in subdirs:\n",
    "    (_, slidedirs, _) = next(walk(data_dir+sd))\n",
    "    \n",
    "    for slide in slidedirs:\n",
    "        print('Processing slide', slide, 'in', sd)\n",
    "        image_folder = path % (sd, slide) + '/'\n",
    "        (_, _, images) = next(walk(image_folder))\n",
    "        \n",
    "        #Sort alphabetically to get the files for one region together. Then iterate through\n",
    "        #regions and create the processed images\n",
    "        images = sorted(images)\n",
    "        numRegions = len(images)//3\n",
    "        assert(numRegions*3 == len(images))\n",
    "        \n",
    "        print('Found %d regions'%(numRegions,))\n",
    "        for roi in range(numRegions):\n",
    "            roi_name = images[3*roi].split('-')[0]\n",
    "            shg = plt.imread(image_folder+images[3*roi])/255.\n",
    "            blue_ch = np.reshape(shg, (*shg.shape,1))\n",
    "            \n",
    "            tpef1 = plt.imread(image_folder+images[3*roi + 1])\n",
    "            tpef2 = plt.imread(image_folder+images[3*roi + 2])\n",
    "            red_ch = ((tpef1 + tpef2) / 2)/255.\n",
    "            red_ch = np.reshape(red_ch, (*red_ch.shape,1))\n",
    "\n",
    "            processed = np.append(red_ch, np.zeros(red_ch.shape, dtype=int), axis=-1)\n",
    "            processed = np.append(processed, blue_ch, axis=-1)\n",
    "            \n",
    "            #MPM images are rotated by 90 degrees counter clockwise compared to brightfield. Rotate back\n",
    "            processed = ndimage.rotate(processed, -90)\n",
    "            #handle rounding errors which lead to sub-zero intensities\n",
    "            processed = np.max(processed, 0)\n",
    "            \n",
    "            plt.imsave(out_file%(slide,roi_name), processed)\n",
    "            plt.imsave(out_file_greyscale%(slide,roi_name), rgb2gray(processed), cmap='gray', vmin=0, vmax=1)\n"
   ]
  },
  {
   "cell_type": "code",
   "execution_count": 8,
   "metadata": {},
   "outputs": [
    {
     "data": {
      "text/plain": [
       "array([[0.48627451, 0.        , 0.91372549],\n",
       "       [0.44313725, 0.        , 0.8       ],\n",
       "       [0.48039216, 0.        , 0.8627451 ],\n",
       "       ...,\n",
       "       [0.47647059, 0.        , 0.76078431],\n",
       "       [0.48627451, 0.        , 0.81960784],\n",
       "       [0.49803922, 0.        , 0.77647059]])"
      ]
     },
     "execution_count": 8,
     "metadata": {},
     "output_type": "execute_result"
    }
   ],
   "source": [
    "np.max(processed, 0)"
   ]
  },
  {
   "cell_type": "code",
   "execution_count": null,
   "metadata": {},
   "outputs": [],
   "source": []
  }
 ],
 "metadata": {
  "kernelspec": {
   "display_name": "Python 3",
   "language": "python",
   "name": "python3"
  },
  "language_info": {
   "codemirror_mode": {
    "name": "ipython",
    "version": 3
   },
   "file_extension": ".py",
   "mimetype": "text/x-python",
   "name": "python",
   "nbconvert_exporter": "python",
   "pygments_lexer": "ipython3",
   "version": "3.6.8"
  }
 },
 "nbformat": 4,
 "nbformat_minor": 2
}
