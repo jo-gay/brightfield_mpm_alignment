{
 "cells": [
  {
   "cell_type": "markdown",
   "metadata": {},
   "source": [
    "## MPM Microscopy Data Processing ##\n",
    "\n",
    "Use three images of each region of interest to create a processed version\n",
    " - Take the average of the two TPEF images, use as red channel\n",
    " - Use SHG image as blue channel\n",
    " - Create a greyscale version from this\n",
    " - Save both multi-channel and greyscale images\n"
   ]
  },
  {
   "cell_type": "code",
   "execution_count": 1,
   "metadata": {},
   "outputs": [],
   "source": [
    "import numpy as np\n",
    "import matplotlib.pyplot as plt #requires Pillow to read tiffs\n",
    "from os import walk #to get directory listing\n",
    "\n",
    "from skimage.color import rgb2gray\n",
    "from scipy import ndimage"
   ]
  },
  {
   "cell_type": "code",
   "execution_count": 2,
   "metadata": {},
   "outputs": [],
   "source": [
    "data_dir = '../py_alpha_amd_release/data/'\n",
    "subdirs = ['Dysplastic'] #, 'Malignant', 'Healthy']\n",
    "path = data_dir + '%s/%s/med/' #Substitute in subdirectory and slide ID to get full path\n",
    "#path = data_dir + '%s/%s/' #Substitute in subdirectory and slide ID to get full path\n",
    "#file_name = '%s_%s-p%d_ch%d' #filename consists of slideid, region id, polarization, channel\n",
    "\n",
    "out_file = '../data/processed/%s_%s.tif' #substitute in slide ID and region ID\n",
    "out_file_greyscale = '../data/processed/%s_%s_gs.tif' #substitute in slide ID and region ID"
   ]
  },
  {
   "cell_type": "code",
   "execution_count": 3,
   "metadata": {},
   "outputs": [
    {
     "name": "stdout",
     "output_type": "stream",
     "text": [
      "Processing slide 148185 in Dysplastic\n",
      "Found 20 regions\n",
      "Processing slide 148184 in Dysplastic\n",
      "Found 7 regions\n"
     ]
    }
   ],
   "source": [
    "#For each of the data subdirectories get a list of slides (each is a subdirectory of that)\n",
    "#Then iterate the slides and process each region.\n",
    "for sd in subdirs:\n",
    "    (_, slidedirs, _) = next(walk(data_dir+sd))\n",
    "    \n",
    "    for slide in slidedirs:\n",
    "        print('Processing slide', slide, 'in', sd)\n",
    "        image_folder = path % (sd, slide) + '/'\n",
    "        (_, _, images) = next(walk(image_folder))\n",
    "        \n",
    "        #Sort alphabetically to get the files for one region together. Then iterate through\n",
    "        #regions and create the processed images\n",
    "        images = sorted(images)\n",
    "        numRegions = len(images)//3\n",
    "        assert(numRegions*3 == len(images))\n",
    "        \n",
    "        print('Found %d regions'%(numRegions,))\n",
    "        for roi in range(numRegions):\n",
    "            roi_name = images[3*roi].split('-')[0]\n",
    "            shg = plt.imread(image_folder+images[3*roi])/255.\n",
    "            blue_ch = np.reshape(shg, (*shg.shape,1))\n",
    "            \n",
    "            tpef1 = plt.imread(image_folder+images[3*roi + 1])\n",
    "            tpef2 = plt.imread(image_folder+images[3*roi + 2])\n",
    "            red_ch = ((tpef1 + tpef2) / 2)/255.\n",
    "            red_ch = np.reshape(red_ch, (*red_ch.shape,1))\n",
    "\n",
    "            processed = np.append(red_ch, np.zeros(red_ch.shape, dtype=int), axis=-1)\n",
    "            processed = np.append(processed, blue_ch, axis=-1)\n",
    "            \n",
    "            #MPM images are rotated by 90 degrees counter clockwise compared to brightfield. Rotate back\n",
    "            processed = ndimage.rotate(processed, -90)\n",
    "            \n",
    "            plt.imsave(out_file%(slide,roi_name), processed)\n",
    "            plt.imsave(out_file_greyscale%(slide,roi_name), rgb2gray(processed), cmap='gray', vmin=0, vmax=1)\n"
   ]
  },
  {
   "cell_type": "code",
   "execution_count": null,
   "metadata": {},
   "outputs": [],
   "source": []
  }
 ],
 "metadata": {
  "kernelspec": {
   "display_name": "Python 3",
   "language": "python",
   "name": "python3"
  },
  "language_info": {
   "codemirror_mode": {
    "name": "ipython",
    "version": 3
   },
   "file_extension": ".py",
   "mimetype": "text/x-python",
   "name": "python",
   "nbconvert_exporter": "python",
   "pygments_lexer": "ipython3",
   "version": "3.6.8"
  }
 },
 "nbformat": 4,
 "nbformat_minor": 2
}
