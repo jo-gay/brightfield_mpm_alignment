{
 "cells": [
  {
   "cell_type": "markdown",
   "metadata": {},
   "source": [
    "## Microscopy Data Processing ##\n",
    "\n",
    "Use locations of regions of interest, specified in a spreadsheet, to cut out relevant sections of the larger mosaic images. For each specified region:\n",
    " - Add a 25 pixel border all the way around\n",
    " - Add an additional (w,x,y,z) border where w - z are uniform random numbers between 0 and 25\n",
    " - Save the resulting area as slide_roi.tif\n",
    " - Save the resulting roi locations (top left coordinate, bottom right coordinate) within the original slide to a csv file"
   ]
  },
  {
   "cell_type": "code",
   "execution_count": 6,
   "metadata": {},
   "outputs": [],
   "source": [
    "import numpy as np\n",
    "import matplotlib.pyplot as plt #requires Pillow to read tiffs"
   ]
  },
  {
   "cell_type": "code",
   "execution_count": 7,
   "metadata": {},
   "outputs": [],
   "source": [
    "data_dir = '../Microscopie optica/'\n",
    "roi_file = data_dir + 'roi_details.csv'\n",
    "image_file = data_dir + '%d.tif'\n",
    "out_file = 'rois/%d_%d.tif'\n",
    "out_roi_file = 'rois/roi_locations.csv'"
   ]
  },
  {
   "cell_type": "code",
   "execution_count": 8,
   "metadata": {},
   "outputs": [],
   "source": [
    "roi_data = np.genfromtxt(roi_file, delimiter=',', dtype=None, encoding=\"utf8\")\n",
    "roi_data = roi_data[1:].astype(int) #drop the header row and convert to integers"
   ]
  },
  {
   "cell_type": "markdown",
   "metadata": {},
   "source": [
    "Loop through rows of csv file, load the mosaic image (if it's not the same as the previous line), then create the cutout defined by the top left and bottom right coordinates, plus padding."
   ]
  },
  {
   "cell_type": "code",
   "execution_count": 9,
   "metadata": {},
   "outputs": [],
   "source": [
    "slide_id = None\n",
    "allpad = 25\n",
    "rndpad = (0, 25)\n",
    "roi_posns=[]\n",
    "\n",
    "for row in roi_data.astype(int):\n",
    "    if row[0] != slide_id:\n",
    "        slide_id = row[0]\n",
    "        mosaic = plt.imread(image_file%(slide_id,))\n",
    "    \n",
    "    roi_id = row[1]\n",
    "    (w, x, y, z) = [allpad,]*4 + np.random.randint(*rndpad,4)\n",
    "    paddedgt = mosaic[(row[3]-w):(row[5]+1+x), (row[2]-y):(row[4]+1+z), :]\n",
    "    roi_posns.append([slide_id, roi_id, (row[2]-y), (row[3]-w), (row[4]+1+z), (row[5]+1+x)]) #save positions in x,y order as above instead of y, x order per numpy\n",
    "    plt.imsave(out_file%(slide_id,roi_id), paddedgt)\n",
    "\n",
    "np.savetxt(out_roi_file, roi_posns, delimiter=',')"
   ]
  },
  {
   "cell_type": "code",
   "execution_count": null,
   "metadata": {},
   "outputs": [],
   "source": []
  }
 ],
 "metadata": {
  "kernelspec": {
   "display_name": "Python 3",
   "language": "python",
   "name": "python3"
  },
  "language_info": {
   "codemirror_mode": {
    "name": "ipython",
    "version": 3
   },
   "file_extension": ".py",
   "mimetype": "text/x-python",
   "name": "python",
   "nbconvert_exporter": "python",
   "pygments_lexer": "ipython3",
   "version": "3.6.4"
  }
 },
 "nbformat": 4,
 "nbformat_minor": 2
}
